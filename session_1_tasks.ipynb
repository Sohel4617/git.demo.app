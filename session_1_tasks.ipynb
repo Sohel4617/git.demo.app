{
  "nbformat": 4,
  "nbformat_minor": 0,
  "metadata": {
    "colab": {
      "provenance": [],
      "include_colab_link": true
    },
    "kernelspec": {
      "name": "python3",
      "display_name": "Python 3"
    },
    "language_info": {
      "name": "python"
    }
  },
  "cells": [
    {
      "cell_type": "markdown",
      "metadata": {
        "id": "view-in-github",
        "colab_type": "text"
      },
      "source": [
        "<a href=\"https://colab.research.google.com/github/Sohel4617/git.demo.app/blob/master/session_1_tasks.ipynb\" target=\"_parent\"><img src=\"https://colab.research.google.com/assets/colab-badge.svg\" alt=\"Open In Colab\"/></a>"
      ]
    },
    {
      "cell_type": "markdown",
      "source": [
        "# Task : Session 1\n",
        "Solve these questions own your own and try to test yourself what you have learned in the session.\n",
        "\n",
        "Happy Learning!"
      ],
      "metadata": {
        "id": "A05OG15VqOPF"
      }
    },
    {
      "cell_type": "markdown",
      "source": [
        "### Q1 :- Print the given strings as per stated format.\n",
        "\n",
        "**Given strings**:\n",
        "```\n",
        "\"Data\" \"Science\" \"Mentorship\" \"Program\"\n",
        "\"By\" \"CampusX\"\n",
        "```\n",
        "**Output**:\n",
        "```\n",
        "Data-Science-Mentorship-Program-started-By-CampusX\n",
        "```\n",
        "\n",
        "Concept- [Seperator and End]"
      ],
      "metadata": {
        "id": "2doIXf8bqe9_"
      }
    },
    {
      "cell_type": "code",
      "source": [
        "# Write your code here\n",
        "\n",
        "print(\"data\",\"Science\",\"mentership\",\"Program\", end='-started-' ,sep='-')\n",
        "print(\"By\",\"Cumpusx\",sep ='-')"
      ],
      "metadata": {
        "id": "-em6d3KErDtp",
        "outputId": "67bfd821-75b8-48a0-fd5a-ce3f9cb8e351",
        "colab": {
          "base_uri": "https://localhost:8080/"
        }
      },
      "execution_count": 4,
      "outputs": [
        {
          "output_type": "stream",
          "name": "stdout",
          "text": [
            "data-Science-mentership-Program-started-By-Cumpusx\n"
          ]
        }
      ]
    },
    {
      "cell_type": "markdown",
      "source": [
        "### Q2:- Write a program that will convert celsius value to fahrenheit."
      ],
      "metadata": {
        "id": "1KUpN7ZTrC3_"
      }
    },
    {
      "cell_type": "code",
      "source": [
        "# Write your code here\n",
        "\n",
        "celsius = int(input(\"enter the celsius value\"))\n",
        "\n",
        "fahrenheit = celsius * (9/5) + 32\n",
        "\n",
        "print(\"fahrenheit\",fahrenheit,'F')"
      ],
      "metadata": {
        "id": "yxKYhYQiqWfj",
        "outputId": "8dc5f3f7-3928-4b07-c00e-6e0c2cd9d9b6",
        "colab": {
          "base_uri": "https://localhost:8080/"
        }
      },
      "execution_count": 23,
      "outputs": [
        {
          "output_type": "stream",
          "name": "stdout",
          "text": [
            "enter the celsius value43\n",
            "fahrenheit 109.4 F\n"
          ]
        }
      ]
    },
    {
      "cell_type": "markdown",
      "source": [
        "### Q3:- Take 2 numbers as input from the user.Write a program to swap the numbers without using any special python syntax."
      ],
      "metadata": {
        "id": "RLrOBBJurLB2"
      }
    },
    {
      "cell_type": "code",
      "source": [
        "# Write your code here\n",
        "\n",
        "a = int(input(\"enter the first number\"))\n",
        "b = int(input(\"enter the second number\"))\n",
        "\n",
        "temp = a\n",
        "a = b\n",
        "b = temp\n",
        "\n",
        "print(a)\n",
        "print(b)\n"
      ],
      "metadata": {
        "id": "yPn7if0TrJ4F",
        "outputId": "d56de363-43cc-4979-e43b-3b72807b7075",
        "colab": {
          "base_uri": "https://localhost:8080/"
        }
      },
      "execution_count": 24,
      "outputs": [
        {
          "output_type": "stream",
          "name": "stdout",
          "text": [
            "enter the first number14\n",
            "enter the second number15\n",
            "15\n",
            "14\n"
          ]
        }
      ]
    },
    {
      "cell_type": "markdown",
      "source": [
        "### Q4:- Write a program to find the euclidean distance between two coordinates.Take both the coordinates from the user as input."
      ],
      "metadata": {
        "id": "waLCP1bjr7ML"
      }
    },
    {
      "cell_type": "code",
      "source": [
        "# Write your code here\n",
        "\n",
        "x1 = int(input(\"enter the x1 co-ordinate\"))\n",
        "y1 = int(input(\"enter the y1 co-ordinate\"))\n",
        "\n",
        "x2 = int(input(\"enter the x2 co-ordinate\"))\n",
        "y2 = int(input(\"enter the y2 co-ordinate\"))\n",
        "\n",
        "result = ((x2 - x2)**2 + (y2-y1)**2)**0.5\n",
        "\n",
        "\n",
        "print(round(result,2))"
      ],
      "metadata": {
        "id": "Pl1Sv-xnrxnH",
        "outputId": "d57d6179-1710-45f5-feac-5f3bf0415202",
        "colab": {
          "base_uri": "https://localhost:8080/"
        }
      },
      "execution_count": 28,
      "outputs": [
        {
          "output_type": "stream",
          "name": "stdout",
          "text": [
            "enter the x1 co-ordinate0\n",
            "enter the y1 co-ordinate0\n",
            "enter the x2 co-ordinate2\n",
            "enter the y2 co-ordinate2\n",
            "2.0\n"
          ]
        }
      ]
    },
    {
      "cell_type": "markdown",
      "source": [
        "### Q5:- Write a program to find the simple interest when the value of principle,rate of interest and time period is provided by the user.\n"
      ],
      "metadata": {
        "id": "VLrhg-FRsHjR"
      }
    },
    {
      "cell_type": "code",
      "source": [
        "# Write your code here\n",
        "\n",
        "\n",
        "value = int(input(\"enter the value\"))\n",
        "\n",
        "interest_rate = float(input(\"enter the rate\"))\n",
        "\n",
        "time = int(input(\"enter the time\"))\n",
        "\n",
        "\n",
        "simple_interest = (value*interest_rate*time)/100\n",
        "print(simple_interest)"
      ],
      "metadata": {
        "id": "s40DlReZsTmY",
        "outputId": "8d67f403-4a1f-4c14-e5d3-896c5089a06d",
        "colab": {
          "base_uri": "https://localhost:8080/"
        }
      },
      "execution_count": 14,
      "outputs": [
        {
          "output_type": "stream",
          "name": "stdout",
          "text": [
            "enter the value50000\n",
            "enter the rate3.5\n",
            "enter the time3\n",
            "5250.0\n"
          ]
        }
      ]
    },
    {
      "cell_type": "markdown",
      "source": [
        "### Q6:- Write a program that will tell the number of dogs and chicken are there when the user will provide the value of total heads and legs.\n",
        "\n",
        "For example:\n",
        "Input:\n",
        "\n",
        "heads -> 4\n",
        "legs -> 12\n",
        "<br>\n",
        "Output:\n",
        "dogs -> 2\n",
        "chicken -> 2\n",
        "\n",
        "\n",
        "\n"
      ],
      "metadata": {
        "id": "LMy0BTUktYKa"
      }
    },
    {
      "cell_type": "code",
      "source": [
        "# Write your code here"
      ],
      "metadata": {
        "id": "XSBvJoA4tXaG"
      },
      "execution_count": null,
      "outputs": []
    },
    {
      "cell_type": "markdown",
      "source": [
        "### Q7:- Write a program to find the sum of squares of first n natural numbers where n will be provided by the user."
      ],
      "metadata": {
        "id": "gJ7C5kZYt4BP"
      }
    },
    {
      "cell_type": "code",
      "source": [
        "# Write your code here\n",
        "\n",
        "n = int(input(\"enter the number\"))\n",
        "\n",
        "result =(n*(n+1)*(2*n+1))/6\n",
        "print(result)"
      ],
      "metadata": {
        "id": "_tHsmEHzt2nX",
        "outputId": "2cdcac1f-e6b1-4b4c-c303-74b097662ec8",
        "colab": {
          "base_uri": "https://localhost:8080/"
        }
      },
      "execution_count": 16,
      "outputs": [
        {
          "output_type": "stream",
          "name": "stdout",
          "text": [
            "enter the number3\n",
            "14.0\n"
          ]
        }
      ]
    },
    {
      "cell_type": "markdown",
      "source": [
        "### Q8:- Given the first 2 terms of an Arithmetic Series.Find the Nth term of the series. Assume all inputs are provided by the user."
      ],
      "metadata": {
        "id": "FHrMM7g-yG1h"
      }
    },
    {
      "cell_type": "code",
      "source": [
        "first_term = int(input(\"enter the first term\"))\n",
        "second_term = int(input(\"enter the second term\"))\n",
        "n = int(input(\"enter the value of n\"))\n",
        "\n",
        "d  =second_term - first_term\n",
        "\n",
        "tn = first_term + (n-1) *d\n",
        "print(tn)"
      ],
      "metadata": {
        "id": "go4_kmZmyVSx",
        "outputId": "aac2ce6e-cfb5-41ba-a0fe-c7020df79876",
        "colab": {
          "base_uri": "https://localhost:8080/"
        }
      },
      "execution_count": 31,
      "outputs": [
        {
          "output_type": "stream",
          "name": "stdout",
          "text": [
            "enter the first term3\n",
            "enter the second term6\n",
            "enter the value of n5\n",
            "15\n"
          ]
        }
      ]
    },
    {
      "cell_type": "markdown",
      "source": [
        "### Q9:- Given 2 fractions, find the sum\n",
        "\n",
        "1.   List item\n",
        "2.   List item\n",
        "\n",
        "of those 2 fractions.Take the numerator and denominator values of the fractions from the user."
      ],
      "metadata": {
        "id": "QgyRX_es1oum"
      }
    },
    {
      "cell_type": "code",
      "source": [
        "# Write your code here\n",
        "\n",
        "n1 = int(input(\"enter the numerator value\"))\n",
        "d1 = int(input(\"enter the denominator value\"))\n",
        "\n",
        "n2 = int(input(\"enter the numerator2 value\"))\n",
        "d2 = int(input(\"enter the denominator2 value\"))\n",
        "\n",
        "\n",
        "numerator = (d2*n1)+(n2*d1)\n",
        "\n",
        "denominator = (d1*d2)\n",
        "\n",
        "result = '{}/{}'.format(numerator,denominator)\n",
        "\n",
        "print(result)"
      ],
      "metadata": {
        "id": "X05xqFS1yW16",
        "outputId": "479aa60c-97c0-4b29-d59f-e4237a7108dd",
        "colab": {
          "base_uri": "https://localhost:8080/"
        }
      },
      "execution_count": 34,
      "outputs": [
        {
          "output_type": "stream",
          "name": "stdout",
          "text": [
            "enter the numerator value3\n",
            "enter the denominator value7\n",
            "enter the numerator2 value2\n",
            "enter the denominator2 value11\n",
            "47/77\n"
          ]
        }
      ]
    },
    {
      "cell_type": "markdown",
      "source": [
        "\n",
        "### Q10:- Given the height, width and breadth of a milk tank, you have to find out how many glasses of milk can be obtained? Assume all the inputs are provided by the user.\n",
        "\n",
        "\n",
        "\n",
        "Input:<br>\n",
        "Dimensions of the milk tank<br>\n",
        "H = 20cm, L = 20cm, B = 20cm\n",
        "<br><br>\n",
        "Dimensions of the glass<br>\n",
        "h = 3cm, r = 1cm"
      ],
      "metadata": {
        "id": "eaql38ln13u7"
      }
    },
    {
      "cell_type": "code",
      "source": [
        "# Write your code here\n",
        "# Write your code here\n",
        "import math\n",
        "\n",
        "h_t = float(input('height'))\n",
        "b_t = float(input('breadth'))\n",
        "l_t = float(input('length'))\n",
        "\n",
        "h_g = float(input('height of glass'))\n",
        "r_g = float(input('radius of the glass'))\n",
        "\n",
        "vol_tank = h_t*b_t*l_t\n",
        "vol_glass = 3.14*r_g*r_g*h_g\n",
        "\n",
        "print('no of glasses',math.floor(vol_tank/vol_glass))"
      ],
      "metadata": {
        "id": "FePZqno74eWv",
        "outputId": "d0a606ca-5232-49dd-9646-a58bbedde537",
        "colab": {
          "base_uri": "https://localhost:8080/"
        }
      },
      "execution_count": 36,
      "outputs": [
        {
          "output_type": "stream",
          "name": "stdout",
          "text": [
            "height10\n",
            "breadth19\n",
            "length10\n",
            "height of glass5\n",
            "radius of the glass2\n",
            "no of glasses 30\n"
          ]
        }
      ]
    },
    {
      "cell_type": "code",
      "source": [
        "2"
      ],
      "metadata": {
        "id": "4LGZ-gunfryM"
      },
      "execution_count": null,
      "outputs": []
    }
  ]
}