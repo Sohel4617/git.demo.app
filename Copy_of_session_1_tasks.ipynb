{
  "nbformat": 4,
  "nbformat_minor": 0,
  "metadata": {
    "colab": {
      "provenance": [],
      "include_colab_link": true
    },
    "kernelspec": {
      "name": "python3",
      "display_name": "Python 3"
    },
    "language_info": {
      "name": "python"
    }
  },
  "cells": [
    {
      "cell_type": "markdown",
      "metadata": {
        "id": "view-in-github",
        "colab_type": "text"
      },
      "source": [
        "<a href=\"https://colab.research.google.com/github/Sohel4617/git.demo.app/blob/master/Copy_of_session_1_tasks.ipynb\" target=\"_parent\"><img src=\"https://colab.research.google.com/assets/colab-badge.svg\" alt=\"Open In Colab\"/></a>"
      ]
    },
    {
      "cell_type": "markdown",
      "source": [
        "# Task : Session 1\n",
        "Solve these questions own your own and try to test yourself what you have learned in the session.\n",
        "\n",
        "Happy Learning!"
      ],
      "metadata": {
        "id": "A05OG15VqOPF"
      }
    },
    {
      "cell_type": "markdown",
      "source": [
        "### Q1 :- Print the given strings as per stated format.\n",
        "\n",
        "**Given strings**:\n",
        "```\n",
        "\"Data\" \"Science\" \"Mentorship\" \"Program\"\n",
        "\"By\" \"CampusX\"\n",
        "```\n",
        "**Output**:\n",
        "```\n",
        "Data-Science-Mentorship-Program-started-By-CampusX\n",
        "```\n",
        "\n",
        "Concept- [Seperator and End]"
      ],
      "metadata": {
        "id": "2doIXf8bqe9_"
      }
    },
    {
      "cell_type": "code",
      "source": [
        "# Write your code here\n",
        "print(\"Data\" ,\"Science\", \"Mentorship\" ,\"Program\" ,sep = '-' ,end = '-started-')\n",
        "print(\"By\",\"CampusX\" ,sep= '-')"
      ],
      "metadata": {
        "id": "-em6d3KErDtp",
        "outputId": "f10158d2-67e0-4e3d-cfc8-c6b38fe030e1",
        "colab": {
          "base_uri": "https://localhost:8080/"
        }
      },
      "execution_count": null,
      "outputs": [
        {
          "output_type": "stream",
          "name": "stdout",
          "text": [
            "Data-Science-Mentorship-Program-started-By-CampusX\n"
          ]
        }
      ]
    },
    {
      "cell_type": "markdown",
      "source": [
        "### Q2:- Write a program that will convert celsius value to fahrenheit."
      ],
      "metadata": {
        "id": "1KUpN7ZTrC3_"
      }
    },
    {
      "cell_type": "code",
      "source": [
        "# Write your code here\n",
        "\n",
        "cel = float(input(\"enter the tempreture in cel\"))\n",
        "\n",
        "faren = cel * (9/2) +32\n",
        "print(faren , 'F')"
      ],
      "metadata": {
        "id": "yxKYhYQiqWfj",
        "outputId": "9bebcef7-06b8-4ae5-b27a-8bedaf1cb6b3",
        "colab": {
          "base_uri": "https://localhost:8080/"
        }
      },
      "execution_count": null,
      "outputs": [
        {
          "output_type": "stream",
          "name": "stdout",
          "text": [
            "enter the tempreture in cel41\n",
            "216.5 F\n"
          ]
        }
      ]
    },
    {
      "cell_type": "markdown",
      "source": [
        "### Q3:- Take 2 numbers as input from the user.Write a program to swap the numbers without using any special python syntax."
      ],
      "metadata": {
        "id": "RLrOBBJurLB2"
      }
    },
    {
      "cell_type": "code",
      "source": [
        "# Write your code here\n",
        "a = int(input(\"enter the first number\"))\n",
        "b = int(input(\"enter the second number\"))\n",
        "\n",
        "temp = a\n",
        "a = b\n",
        "b = temp\n",
        "print(a)\n",
        "print(b)"
      ],
      "metadata": {
        "id": "yPn7if0TrJ4F",
        "outputId": "41a4bc2d-730f-497c-dcc0-da7629206e94",
        "colab": {
          "base_uri": "https://localhost:8080/"
        }
      },
      "execution_count": null,
      "outputs": [
        {
          "output_type": "stream",
          "name": "stdout",
          "text": [
            "enter the first number14\n",
            "enter the second number15\n",
            "15\n",
            "14\n"
          ]
        }
      ]
    },
    {
      "cell_type": "markdown",
      "source": [
        "25### Q4:- Write a program to find the euclidean distance between two coordinates.Take both the coordinates from the user as input."
      ],
      "metadata": {
        "id": "waLCP1bjr7ML"
      }
    },
    {
      "cell_type": "code",
      "source": [
        "# Write your code here\n",
        "p1x = int(input(\"enter the point 1 x coordinate\"))\n",
        "p2x = int(input(\"enter the point 2 x coordinate\"))\n",
        "p1y = int(input(\"enter the point 1 y coordinate\"))\n",
        "p2y = int(input(\"enter the point 2 y coordinate\"))\n",
        "\n",
        "dist = ((p1x-p2x)**2 +(p1y - p2y)**2)**0.5\n",
        "print(dist)"
      ],
      "metadata": {
        "id": "Pl1Sv-xnrxnH",
        "outputId": "028e736a-0528-4fe1-f8fe-803e6ed9b3c1",
        "colab": {
          "base_uri": "https://localhost:8080/"
        }
      },
      "execution_count": null,
      "outputs": [
        {
          "output_type": "stream",
          "name": "stdout",
          "text": [
            "enter the point 1 x coordinate12\n",
            "enter the point 2 x coordinate23\n",
            "enter the point 1 y coordinate32\n",
            "enter the point 2 y coordinate54\n",
            "24.596747752497688\n"
          ]
        }
      ]
    },
    {
      "cell_type": "markdown",
      "source": [
        "### Q5:- Write a program to find the simple interest when the value of principle,rate of interest and time period is provided by the user.\n"
      ],
      "metadata": {
        "id": "VLrhg-FRsHjR"
      }
    },
    {
      "cell_type": "code",
      "source": [
        "# Write your code here\n",
        "\n",
        "amount = int(input(\"enter the amount\"))\n",
        "interest = int(input(\"enter the rate of interest\"))\n",
        "time = int(input(\"enter the time\"))\n",
        "\n",
        "s_i = (amount*interest*time)/100\n",
        "print(s_i)"
      ],
      "metadata": {
        "id": "s40DlReZsTmY",
        "outputId": "c66ef74f-4193-43bb-82b9-9b9a89dba0a6",
        "colab": {
          "base_uri": "https://localhost:8080/"
        }
      },
      "execution_count": null,
      "outputs": [
        {
          "output_type": "stream",
          "name": "stdout",
          "text": [
            "enter the amount15000\n",
            "enter the rate of interest12\n",
            "enter the time1\n",
            "1800.0\n"
          ]
        }
      ]
    },
    {
      "cell_type": "markdown",
      "source": [
        "### Q6:- Write a program that will tell the number of dogs and chicken are there when the user will provide the value of total heads and legs.\n",
        "\n",
        "For example:\n",
        "Input:\n",
        "heads -> 4\n",
        "legs -> 12\n",
        "<br>\n",
        "Output:\n",
        "dogs -> 2\n",
        "chicken -> 2\n",
        "\n",
        "\n",
        "\n"
      ],
      "metadata": {
        "id": "LMy0BTUktYKa"
      }
    },
    {
      "cell_type": "code",
      "source": [
        "# Write your code here\n",
        "heads = 4\n",
        "legs = 12\n",
        "\n",
        "\n",
        "dogs + chicken = heads\n",
        "dogs =chicken -heads\n",
        "\n",
        "4*dogs +2*Chicken = legs\n",
        "\n"
      ],
      "metadata": {
        "id": "XSBvJoA4tXaG"
      },
      "execution_count": null,
      "outputs": []
    },
    {
      "cell_type": "markdown",
      "source": [
        "### Q7:- Write a program to find the sum of squares of first n natural numbers where n will be provided by the user."
      ],
      "metadata": {
        "id": "gJ7C5kZYt4BP"
      }
    },
    {
      "cell_type": "code",
      "source": [
        "# Write your code here\n",
        "\n",
        "n = int(input(\"enter the nth term of number\"))\n",
        "\n",
        "result = (n*(n+1)-(2*n+1))/6\n",
        "\n",
        "print(result)\n",
        "\n"
      ],
      "metadata": {
        "id": "_tHsmEHzt2nX",
        "outputId": "ab6e25ae-a700-4f4c-d064-295319aaf30e",
        "colab": {
          "base_uri": "https://localhost:8080/"
        }
      },
      "execution_count": null,
      "outputs": [
        {
          "output_type": "stream",
          "name": "stdout",
          "text": [
            "enter the nth term of number12\n",
            "21.833333333333332\n"
          ]
        }
      ]
    },
    {
      "cell_type": "markdown",
      "source": [
        "10\n",
        "3### Q8:- Given the first 2 terms of an Arithmetic Series.Find the Nth term of the series. Assume all inputs are provided by the user."
      ],
      "metadata": {
        "id": "FHrMM7g-yG1h"
      }
    },
    {
      "cell_type": "code",
      "source": [
        "# Write your code here\n",
        "first_term  = int(input(\"enter the first_term\"))\n",
        "second_term = int(input(\"enter the second_term\"))\n",
        "nth_term  = int(input(\"enter the nth term\"))\n",
        "\n",
        "d = second_term - first_term\n",
        "\n",
        "tn = first_term + (nth_term - 1)*d\n",
        "print(tn)"
      ],
      "metadata": {
        "id": "go4_kmZmyVSx",
        "outputId": "a841cd08-550b-43bc-ecbe-9344bc0b525c",
        "colab": {
          "base_uri": "https://localhost:8080/"
        }
      },
      "execution_count": null,
      "outputs": [
        {
          "output_type": "stream",
          "name": "stdout",
          "text": [
            "enter the first_term14\n",
            "enter the second_term25\n",
            "enter the nth term15\n",
            "168\n"
          ]
        }
      ]
    },
    {
      "cell_type": "markdown",
      "source": [
        "### Q9:- Given 2 fractions, find the sum of those 2 fractions.Take the numerator and denominator values of the fractions from the user."
      ],
      "metadata": {
        "id": "QgyRX_es1oum"
      }
    },
    {
      "cell_type": "code",
      "source": [
        "# Write your code here\n",
        "\n",
        "n1 = int(input(\"enter the n1 numerator\"))\n",
        "d1 = int(input(\"enter the d1 denominator\"))\n",
        "\n",
        "n2 = int(input(\"enter the n2 numerator\"))\n",
        "d2 = int(input(\"enter the d2 denominator\"))\n",
        "\n",
        "numerator = n1*d2 + n2 * d1\n",
        "\n",
        "denominator = d1 * d2\n",
        "\n",
        "\n",
        "result = \"{}/{}\".format(numerator,denominator)\n",
        "print(result)\n"
      ],
      "metadata": {
        "id": "X05xqFS1yW16",
        "outputId": "cb3ab387-4932-40df-9120-4788a6aa7044",
        "colab": {
          "base_uri": "https://localhost:8080/"
        }
      },
      "execution_count": null,
      "outputs": [
        {
          "output_type": "stream",
          "name": "stdout",
          "text": [
            "enter the n1 numerator1\n",
            "enter the d1 denominator2\n",
            "enter the n2 numerator3\n",
            "enter the d2 denominator4\n",
            "10/8\n"
          ]
        }
      ]
    },
    {
      "cell_type": "markdown",
      "source": [
        "### Q10:- Given the height, width and breadth of a milk tank, you have to find out how many glasses of milk can be obtained? Assume all the inputs are provided by the user.\n",
        "\n",
        "\n",
        "\n",
        "Input:<br>\n",
        "Dimensions of the milk tank<br>\n",
        "H = 20cm, L = 20cm, B = 20cm\n",
        "<br><br>\n",
        "Dimensions of the glass<br>\n",
        "h = 3cm, r = 1cm"
      ],
      "metadata": {
        "id": "eaql38ln13u7"
      }
    },
    {
      "cell_type": "code",
      "source": [
        "# Write your code here\n",
        "import math\n",
        "h_t = float(input(\"enter the height of tank\"))\n",
        "l_t = float(input(\"enter the lenght of tank\"))\n",
        "b_t = float(input(\"enter the breadth of the tank\"))\n",
        "\n",
        "h_g = float(input(\"enter the height of the glass\"))\n",
        "r_g = float(input(\"enter the radius of the glass\"))\n",
        "\n",
        "v_t = h_t*l_t*b_t\n",
        "v_g = 3.14 *r_g *r_g\n",
        "result = v_t/v_g\n",
        "\n",
        "print(\"total number of glasses fill \", math.floor(result))"
      ],
      "metadata": {
        "id": "FePZqno74eWv",
        "outputId": "b3039389-0f8d-4a10-bd2e-b75d27667a2e",
        "colab": {
          "base_uri": "https://localhost:8080/"
        }
      },
      "execution_count": null,
      "outputs": [
        {
          "output_type": "stream",
          "name": "stdout",
          "text": [
            "enter the height of tank14\n",
            "enter the lenght of tank15\n",
            "enter the breadth of the tank32\n",
            "enter the height of the glass56\n",
            "enter the radius of the glass41\n",
            "total number of glasses fill  1\n"
          ]
        }
      ]
    },
    {
      "cell_type": "code",
      "source": [
        "math.floor(8.465)"
      ],
      "metadata": {
        "id": "8tzPNz8ZOdU_",
        "outputId": "fc38a525-b30d-44f5-a426-4200f7fee360",
        "colab": {
          "base_uri": "https://localhost:8080/"
        }
      },
      "execution_count": null,
      "outputs": [
        {
          "output_type": "execute_result",
          "data": {
            "text/plain": [
              "8"
            ]
          },
          "metadata": {},
          "execution_count": 19
        }
      ]
    },
    {
      "cell_type": "code",
      "source": [],
      "metadata": {
        "id": "O9_L9gbBP8AP"
      },
      "execution_count": null,
      "outputs": []
    }
  ]
}